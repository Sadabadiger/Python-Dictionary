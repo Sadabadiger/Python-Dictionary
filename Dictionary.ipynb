{
 "cells": [
  {
   "cell_type": "markdown",
   "metadata": {},
   "source": [
    "# Dictionaries\n",
    "- Dictionary represents a group of elements arranged in the form of key-value pairs\n",
    "- In the dictionary first element is considered as 'key' and immediate next element is taken as its 'value'\n",
    "- The key and its value is seperated by (:)\n",
    "- All the key pairs in dictionary are inserted in curly braces { }"
   ]
  },
  {
   "cell_type": "code",
   "execution_count": 27,
   "metadata": {},
   "outputs": [
    {
     "name": "stdout",
     "output_type": "stream",
     "text": [
      "{'name': 'Sadashiv', 'Id': 200, 'salary': 9080.5}\n",
      "Name of employee=  Sadashiv\n",
      "ID Number=  200\n",
      "Salary=  9080.5\n"
     ]
    }
   ],
   "source": [
    "# A Python program to create a dictionary with employee details and retrieve the value upon giving the keys\n",
    "dict={'name':'Sadashiv','Id':200,'salary':9080.50}\n",
    "print(dict)\n",
    "\n",
    "print('Name of employee= ',dict['name'])\n",
    "print('ID Number= ',dict['Id'])\n",
    "print('Salary= ',dict['salary'])"
   ]
  },
  {
   "cell_type": "code",
   "execution_count": 28,
   "metadata": {},
   "outputs": [
    {
     "name": "stdout",
     "output_type": "stream",
     "text": [
      "The number of key values:  3\n"
     ]
    }
   ],
   "source": [
    "# To find how many key values are present in dictionary using len(dict)\n",
    "n=len(dict)\n",
    "print(\"The number of key values: \",n)"
   ]
  },
  {
   "cell_type": "code",
   "execution_count": 29,
   "metadata": {},
   "outputs": [
    {
     "name": "stdout",
     "output_type": "stream",
     "text": [
      "{'name': 'Vijay', 'Id': 200, 'salary': 10000}\n"
     ]
    }
   ],
   "source": [
    "# modify existing value of key by assigning new value\n",
    "dict['name']='Vijay'\n",
    "dict['salary']=10000\n",
    "print(dict)\n"
   ]
  },
  {
   "cell_type": "code",
   "execution_count": 30,
   "metadata": {},
   "outputs": [
    {
     "name": "stdout",
     "output_type": "stream",
     "text": [
      "{'name': 'Vijay', 'Id': 200, 'salary': 10000, 'dept': 'Finance'}\n"
     ]
    }
   ],
   "source": [
    "# Inserting new key-value pair into an existing dictionary\n",
    "dict['dept']='Finance'\n",
    "print(dict)"
   ]
  },
  {
   "cell_type": "code",
   "execution_count": 32,
   "metadata": {},
   "outputs": [
    {
     "name": "stdout",
     "output_type": "stream",
     "text": [
      "{'name': 'Vijay', 'salary': 10000, 'dept': 'Finance'}\n"
     ]
    }
   ],
   "source": [
    "# Delete key-value pair from the dictionary by using del dict['key']\n",
    "del dict['Id']\n",
    "print(dict)"
   ]
  },
  {
   "cell_type": "code",
   "execution_count": 34,
   "metadata": {},
   "outputs": [
    {
     "data": {
      "text/plain": [
       "False"
      ]
     },
     "execution_count": 34,
     "metadata": {},
     "output_type": "execute_result"
    }
   ],
   "source": [
    "# Membership operator in dictionary to find whether key is found or not\n",
    "'dept' not in dict"
   ]
  },
  {
   "cell_type": "code",
   "execution_count": 35,
   "metadata": {},
   "outputs": [
    {
     "name": "stdout",
     "output_type": "stream",
     "text": [
      "{'nag': 30, 'vishnu': 20}\n"
     ]
    }
   ],
   "source": [
    "# Key should be unique duplicate keys are not allowed\n",
    "dict={'nag':10,'vishnu':20,'nag':30}\n",
    "print(dict)"
   ]
  },
  {
   "cell_type": "code",
   "execution_count": 36,
   "metadata": {},
   "outputs": [
    {
     "name": "stdout",
     "output_type": "stream",
     "text": [
      "{'Name': 'Chandra', 'Id': 200, 'Salary': 20000}\n",
      "keys in dict= dict_keys(['Name', 'Id', 'Salary'])\n",
      "values in dict= dict_values(['Chandra', 200, 20000])\n",
      "items in dict= dict_items([('Name', 'Chandra'), ('Id', 200), ('Salary', 20000)])\n"
     ]
    }
   ],
   "source": [
    "# A Python program to retrieve keys, values and key-value pairs from a dictionary by using keys(), values(), items()\n",
    "dict={'Name':'Chandra','Id':200, 'Salary':20000}\n",
    "print(dict)\n",
    "\n",
    "#display only keys\n",
    "print(\"keys in dict=\",dict.keys())\n",
    "\n",
    "#display only values\n",
    "print(\"values in dict=\",dict.values())\n",
    "\n",
    "#display both key and values pairs\n",
    "print(\"items in dict=\",dict.items())"
   ]
  },
  {
   "cell_type": "code",
   "execution_count": 37,
   "metadata": {},
   "outputs": [
    {
     "name": "stdout",
     "output_type": "stream",
     "text": [
      "Enter elements in{}: {'a':10,'b':20,'c':30}\n",
      "sum of values in the dictionary:  60\n"
     ]
    }
   ],
   "source": [
    "# A Python program to create a dictionary and find the sum of values using sum(dict.values()) function\n",
    "#dict=eval(input(\"Enter elements in {}: \"))\n",
    "\n",
    "dict=eval(input(\"Enter elements in{}: \"))\n",
    "\n",
    "#find sum of values\n",
    "s=sum(dict.values())\n",
    "\n",
    "print(\"sum of values in the dictionary: \",s)"
   ]
  },
  {
   "cell_type": "code",
   "execution_count": 39,
   "metadata": {},
   "outputs": [
    {
     "name": "stdout",
     "output_type": "stream",
     "text": [
      "How many players ?  3\n",
      "Enter Player name: vijay\n",
      "Enter runs: 75\n",
      "Enter Player name: dipti\n",
      "Enter runs: 60\n",
      "Enter Player name: chaitrali\n",
      "Enter runs: 80\n",
      "The dictionary is:  {'vijay': 75, 'dipti': 60, 'chaitrali': 80}\n"
     ]
    }
   ],
   "source": [
    "# A python program to create a dictionary with cricket players names and scores in a match from keyboard and display the dictionary\n",
    "#empty dict\n",
    "x={}\n",
    "\n",
    "print(\"How many players ? \", end=' ')\n",
    "n=int(input())\n",
    "\n",
    "for i in range(n):\n",
    "    print(\"Enter Player name: \",end='')\n",
    "    k=input()\n",
    "    \n",
    "    print(\"Enter runs: \",end='')\n",
    "    v=int(input())\n",
    "    \n",
    "    x.update({k:v})\n",
    "\n",
    "#display the dictionary\n",
    "print(\"The dictionary is: \",x)"
   ]
  },
  {
   "cell_type": "code",
   "execution_count": 40,
   "metadata": {},
   "outputs": [
    {
     "name": "stdout",
     "output_type": "stream",
     "text": [
      "vijay\n",
      "dipti\n",
      "chaitrali\n"
     ]
    }
   ],
   "source": [
    "# Display only keys using for loop\n",
    "\n",
    "for pname in x.keys():\n",
    "    print(pname)"
   ]
  },
  {
   "cell_type": "code",
   "execution_count": 41,
   "metadata": {},
   "outputs": [
    {
     "name": "stdout",
     "output_type": "stream",
     "text": [
      "75\n",
      "60\n",
      "80\n"
     ]
    }
   ],
   "source": [
    "#Display only values using for loop\n",
    "for runs in x.values():\n",
    "    print(runs)"
   ]
  },
  {
   "cell_type": "code",
   "execution_count": 42,
   "metadata": {},
   "outputs": [
    {
     "name": "stdout",
     "output_type": "stream",
     "text": [
      "('vijay', 75)\n",
      "('dipti', 60)\n",
      "('chaitrali', 80)\n"
     ]
    }
   ],
   "source": [
    "# Display both key and values using for loop\n",
    "for item in x.items():\n",
    "    print(item)"
   ]
  },
  {
   "cell_type": "code",
   "execution_count": 46,
   "metadata": {},
   "outputs": [
    {
     "name": "stdout",
     "output_type": "stream",
     "text": [
      "Enter player name: dipti\n"
     ]
    },
    {
     "ename": "AttributeError",
     "evalue": "'str' object has no attribute 'get'",
     "output_type": "error",
     "traceback": [
      "\u001b[1;31m---------------------------------------------------------------------------\u001b[0m",
      "\u001b[1;31mAttributeError\u001b[0m                            Traceback (most recent call last)",
      "\u001b[1;32m<ipython-input-46-2a756c7c405b>\u001b[0m in \u001b[0;36m<module>\u001b[1;34m\u001b[0m\n\u001b[0;32m      4\u001b[0m \u001b[1;33m\u001b[0m\u001b[0m\n\u001b[0;32m      5\u001b[0m \u001b[1;31m#find the runs made by the player\u001b[0m\u001b[1;33m\u001b[0m\u001b[1;33m\u001b[0m\u001b[0m\n\u001b[1;32m----> 6\u001b[1;33m \u001b[0mruns\u001b[0m\u001b[1;33m=\u001b[0m\u001b[0mx\u001b[0m\u001b[1;33m.\u001b[0m\u001b[0mget\u001b[0m\u001b[1;33m(\u001b[0m\u001b[0mname\u001b[0m\u001b[1;33m,\u001b[0m \u001b[1;33m-\u001b[0m\u001b[1;36m1\u001b[0m\u001b[1;33m)\u001b[0m\u001b[1;33m\u001b[0m\u001b[0m\n\u001b[0m\u001b[0;32m      7\u001b[0m \u001b[1;32mif\u001b[0m \u001b[1;33m(\u001b[0m\u001b[0mruns\u001b[0m\u001b[1;33m==\u001b[0m\u001b[1;33m-\u001b[0m\u001b[1;36m1\u001b[0m\u001b[1;33m)\u001b[0m\u001b[1;33m:\u001b[0m\u001b[1;33m\u001b[0m\u001b[0m\n\u001b[0;32m      8\u001b[0m     \u001b[0mprint\u001b[0m\u001b[1;33m(\u001b[0m\u001b[1;34m'Player not found'\u001b[0m\u001b[1;33m)\u001b[0m\u001b[1;33m\u001b[0m\u001b[0m\n",
      "\u001b[1;31mAttributeError\u001b[0m: 'str' object has no attribute 'get'"
     ]
    }
   ],
   "source": [
    "# get values by the keys using dictionary.get() function\n",
    "print(\"Enter player name: \",end='')\n",
    "name=input()\n",
    "\n",
    "#find the runs made by the player\n",
    "runs=x.get(name, -1)\n",
    "if (runs==-1):\n",
    "    print('Player not found')\n",
    "else:\n",
    "    print('{} made runs {}'.format(name,runs))"
   ]
  },
  {
   "cell_type": "markdown",
   "metadata": {},
   "source": [
    "# Sorting the elements of a dictionary using lambdas\n",
    "- A lambda is a function that does not have a name \n",
    "- Lambda statements are written using a single statement and hence look like expressions\n",
    "- Lambda function are written without using def keyword"
   ]
  },
  {
   "cell_type": "code",
   "execution_count": 48,
   "metadata": {},
   "outputs": [
    {
     "name": "stdout",
     "output_type": "stream",
     "text": [
      "Keys are in ascending order:  [(10, 'red'), (15, 'blue'), (25, 'white'), (35, 'green')]\n",
      "values are in ascending order:  [(15, 'blue'), (35, 'green'), (10, 'red'), (25, 'white')]\n"
     ]
    }
   ],
   "source": [
    "# A Pytcolorshon program to sort the elements of a dictionary based on a key or value \n",
    "colors={10:'red',35:'green',15:'blue',25:'white'}\n",
    "\n",
    "#Sorting dictionary by keys, that is 0th element\n",
    "c1=sorted(colors.items(),key=lambda t:t[0])\n",
    "print(\"Keys are in ascending order: \",c1)\n",
    "\n",
    "#Sorting dictionary by values, that is 1st element\n",
    "c2=sorted(colors.items(),key=lambda t:t[1])\n",
    "print(\"values are in ascending order: \",c2)\n",
    "                                        "
   ]
  },
  {
   "cell_type": "markdown",
   "metadata": {},
   "source": [
    "# Converting List into Dictionary\n",
    "- There are two steps involved to convert them into dictionary\n",
    "1. First step is to create a 'zip' class object by passing the two lists to zip() functions **z=zip(list1, list2)**\n",
    "2. Second step is to convert zip object into a dictionary by using dict() function **d=dict(z)**"
   ]
  },
  {
   "cell_type": "code",
   "execution_count": 51,
   "metadata": {},
   "outputs": [
    {
     "ename": "TypeError",
     "evalue": "'dict' object is not callable",
     "output_type": "error",
     "traceback": [
      "\u001b[1;31m---------------------------------------------------------------------------\u001b[0m",
      "\u001b[1;31mTypeError\u001b[0m                                 Traceback (most recent call last)",
      "\u001b[1;32m<ipython-input-51-0e783046a460>\u001b[0m in \u001b[0;36m<module>\u001b[1;34m\u001b[0m\n\u001b[0;32m      3\u001b[0m \u001b[0mcities\u001b[0m\u001b[1;33m=\u001b[0m\u001b[1;33m[\u001b[0m\u001b[1;34m'washington'\u001b[0m\u001b[1;33m,\u001b[0m\u001b[1;34m'new delhi'\u001b[0m\u001b[1;33m,\u001b[0m \u001b[1;34m'berlin'\u001b[0m\u001b[1;33m,\u001b[0m\u001b[1;34m'paris'\u001b[0m\u001b[1;33m]\u001b[0m\u001b[1;33m\u001b[0m\u001b[0m\n\u001b[0;32m      4\u001b[0m \u001b[0mz\u001b[0m\u001b[1;33m=\u001b[0m\u001b[0mzip\u001b[0m\u001b[1;33m(\u001b[0m\u001b[0mcountries\u001b[0m\u001b[1;33m,\u001b[0m\u001b[0mcities\u001b[0m\u001b[1;33m)\u001b[0m\u001b[1;33m\u001b[0m\u001b[0m\n\u001b[1;32m----> 5\u001b[1;33m \u001b[0md\u001b[0m\u001b[1;33m=\u001b[0m\u001b[0mdict\u001b[0m\u001b[1;33m(\u001b[0m\u001b[0mz\u001b[0m\u001b[1;33m)\u001b[0m\u001b[1;33m\u001b[0m\u001b[0m\n\u001b[0m\u001b[0;32m      6\u001b[0m \u001b[0mprint\u001b[0m\u001b[1;33m(\u001b[0m\u001b[0md\u001b[0m\u001b[1;33m)\u001b[0m\u001b[1;33m\u001b[0m\u001b[0m\n",
      "\u001b[1;31mTypeError\u001b[0m: 'dict' object is not callable"
     ]
    }
   ],
   "source": [
    "# A Python program to convert the elements of two list into key-values pairs of a dictionary\n",
    "countries=['USA','INDIA','GERMANY','FRANCE']\n",
    "cities=['washington','new delhi', 'berlin','paris']\n",
    "z=zip(countries,cities)\n",
    "d=dict(z)\n",
    "print(d)"
   ]
  },
  {
   "cell_type": "markdown",
   "metadata": {},
   "source": [
    "# Passing Dictionary to function"
   ]
  },
  {
   "cell_type": "code",
   "execution_count": 53,
   "metadata": {},
   "outputs": [
    {
     "name": "stdout",
     "output_type": "stream",
     "text": [
      "a ---- apple\n",
      "b ---- book\n",
      "c ---- cook\n"
     ]
    }
   ],
   "source": [
    "def fun(dictionary):\n",
    "    for i,j in dictionary.items():\n",
    "        print(i,'----',j)\n",
    "#take dictionary\n",
    "d={'a':'apple','b':'book','c':'cook'}\n",
    "fun(d)"
   ]
  }
 ],
 "metadata": {
  "kernelspec": {
   "display_name": "Python 3",
   "language": "python",
   "name": "python3"
  },
  "language_info": {
   "codemirror_mode": {
    "name": "ipython",
    "version": 3
   },
   "file_extension": ".py",
   "mimetype": "text/x-python",
   "name": "python",
   "nbconvert_exporter": "python",
   "pygments_lexer": "ipython3",
   "version": "3.7.6"
  }
 },
 "nbformat": 4,
 "nbformat_minor": 4
}
